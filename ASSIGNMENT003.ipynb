{
 "cells": [
  {
   "cell_type": "code",
   "execution_count": 1,
   "id": "7c0ab3c9",
   "metadata": {},
   "outputs": [
    {
     "name": "stdout",
     "output_type": "stream",
     "text": [
      "    Twinke,twinkle,little star,\n",
      "           How I wonder what you are!\n",
      "                Up above the world so high,\n",
      "                Like the diamond in the sky\n",
      "    Twinke,twinkle,little star,\n",
      "           How I wonder what you are!\n"
     ]
    }
   ],
   "source": [
    "print(\"    Twinke,twinkle,little star,\")\n",
    "print(\"           How I wonder what you are!\")\n",
    "print(\"                Up above the world so high,\")\n",
    "print(\"                Like the diamond in the sky\")\n",
    "print(\"    Twinke,twinkle,little star,\")\n",
    "print(\"           How I wonder what you are!\")\n"
   ]
  },
  {
   "cell_type": "code",
   "execution_count": 2,
   "id": "9604a621",
   "metadata": {},
   "outputs": [
    {
     "name": "stdout",
     "output_type": "stream",
     "text": [
      "C:\\Users\\Anwar Ahmed\\anaconda3\\python.exe\n",
      "3.8.8 (default, Apr 13 2021, 15:08:03) [MSC v.1916 64 bit (AMD64)]\n",
      "sys.version_info(major=3, minor=8, micro=8, releaselevel='final', serial=0)\n"
     ]
    }
   ],
   "source": [
    "import sys;\n",
    "print(sys.executable);\n",
    "print(sys.version);\n",
    "print(sys.version_info);"
   ]
  },
  {
   "cell_type": "code",
   "execution_count": 3,
   "id": "594335e6",
   "metadata": {},
   "outputs": [
    {
     "name": "stdout",
     "output_type": "stream",
     "text": [
      "2021-10-24 03:00:18\n"
     ]
    }
   ],
   "source": [
    "from datetime import datetime\n",
    "now = datetime.now()\n",
    "print (now.strftime(\"%Y-%m-%d %H:%M:%S\"))"
   ]
  },
  {
   "cell_type": "code",
   "execution_count": 4,
   "id": "b596b0c3",
   "metadata": {},
   "outputs": [
    {
     "name": "stdout",
     "output_type": "stream",
     "text": [
      "Input the radius of the circle : 3\n",
      "The area of the circle with radius 3.0 is: 28.274333882308138\n"
     ]
    }
   ],
   "source": [
    "from math import pi\n",
    "r = float(input (\"Input the radius of the circle : \"))\n",
    "print (\"The area of the circle with radius \" + str(r) + \" is: \" + str(pi * r**2))\n"
   ]
  },
  {
   "cell_type": "code",
   "execution_count": 5,
   "id": "712203f9",
   "metadata": {},
   "outputs": [
    {
     "name": "stdout",
     "output_type": "stream",
     "text": [
      "value6\n",
      "value9\n",
      "15\n"
     ]
    }
   ],
   "source": [
    "x=int(input(\"value\"));\n",
    "y=int(input(\"value\"));\n",
    "z= x+y;\n",
    "print (z);"
   ]
  },
  {
   "cell_type": "code",
   "execution_count": 6,
   "id": "b530e576",
   "metadata": {},
   "outputs": [
    {
     "name": "stdout",
     "output_type": "stream",
     "text": [
      "----------------\n",
      " MARKSHEET\n",
      "----------------\n",
      "marks obtained in english  78\n",
      "marks obtained in maths  65\n",
      "marks obtained in isl 87\n",
      "marks obtained in CS 67\n",
      "marks obtained in Comp 44\n",
      "grade C\n"
     ]
    }
   ],
   "source": [
    "print(\"----------------\")\n",
    "print (\" MARKSHEET\");\n",
    "print(\"----------------\");\n",
    "eng=int(input(\"marks obtained in english  \"));\n",
    "math=int(input(\"marks obtained in maths  \"));\n",
    "isl=int(input(\"marks obtained in isl \"));\n",
    "CS=int(input(\"marks obtained in CS \"));\n",
    "Comp=int(input(\"marks obtained in Comp \"));\n",
    "total = eng+math+isl+CS+Comp;\n",
    "percent = total/5;\n",
    "if percent < 100 and percent > 80:\n",
    "    print(\"grade A\");\n",
    "elif percent < 80 and percent > 70:\n",
    "        print (\"grade B\");\n",
    "elif percent < 70 and percent > 60:\n",
    "    print(\"grade C\");\n",
    "elif percent < 60 and percent > 50:\n",
    "    print(\"grade D\");\n",
    "elif percent < 50 and percent > 40:\n",
    "    print (\"grade E\");\n",
    "elif percent < 40:\n",
    "    print(\"fail\")\n",
    "else:\n",
    "    print(\"entr a valid num\");"
   ]
  },
  {
   "cell_type": "code",
   "execution_count": 7,
   "id": "6bb262a7",
   "metadata": {},
   "outputs": [
    {
     "name": "stdout",
     "output_type": "stream",
     "text": [
      "your first nameloe\n",
      "your last namejoe\n",
      "joe loe\n"
     ]
    }
   ],
   "source": [
    "first=input(\"your first name\");\n",
    "last=input(\"your last name\");\n",
    "print ( last+ \" \"+ first)"
   ]
  },
  {
   "cell_type": "code",
   "execution_count": 8,
   "id": "dfb34d3e",
   "metadata": {},
   "outputs": [
    {
     "name": "stdout",
     "output_type": "stream",
     "text": [
      "Enter a number: 9\n",
      " is Odd\n"
     ]
    }
   ],
   "source": [
    "num = int(input(\"Enter a number: \"))\n",
    "if (num % 2) == 0:\n",
    "    print(\" is Even\");\n",
    "else:\n",
    "    print(\" is Odd\")\n",
    "    "
   ]
  },
  {
   "cell_type": "code",
   "execution_count": 9,
   "id": "0188aa1a",
   "metadata": {},
   "outputs": [
    {
     "name": "stdout",
     "output_type": "stream",
     "text": [
      "The length of list is:  4\n"
     ]
    }
   ],
   "source": [
    "a = []\n",
    "a.append(\"Hello\")\n",
    "a.append(\"how\")\n",
    "a.append(\"many\")\n",
    "a.append(\"num\")\n",
    "print(\"The length of list is: \", len(a));\n"
   ]
  },
  {
   "cell_type": "code",
   "execution_count": 10,
   "id": "081d22f7",
   "metadata": {},
   "outputs": [
    {
     "name": "stdout",
     "output_type": "stream",
     "text": [
      "How many numbers: 4\n",
      "Enter number 9\n",
      "Enter number 6\n",
      "Enter number 3\n",
      "Enter number 1\n",
      "Sum of elements in given list is : 19\n"
     ]
    }
   ],
   "source": [
    "lst = []\n",
    "num = int(input('How many numbers: '))\n",
    "for n in range(num):\n",
    "    numbers = int(input('Enter number '))\n",
    "    lst.append(numbers)\n",
    "print(\"Sum of elements in given list is :\", sum(lst))"
   ]
  },
  {
   "cell_type": "code",
   "execution_count": 11,
   "id": "371a9561",
   "metadata": {},
   "outputs": [
    {
     "name": "stdout",
     "output_type": "stream",
     "text": [
      "Largest element is: 67\n"
     ]
    }
   ],
   "source": [
    "list1 = [0, 67, 40, 8, 1]\n",
    "print(\"Largest element is:\", max(list1));"
   ]
  },
  {
   "cell_type": "code",
   "execution_count": 12,
   "id": "0e10a539",
   "metadata": {},
   "outputs": [
    {
     "name": "stdout",
     "output_type": "stream",
     "text": [
      "[1, 1, 2, 3, 5]\n"
     ]
    }
   ],
   "source": [
    "a=[1,1,2,3,5,8,13,21,34,55,89]\n",
    "a=a[:5]\n",
    "print(a);"
   ]
  },
  {
   "cell_type": "code",
   "execution_count": null,
   "id": "fc1900e4",
   "metadata": {},
   "outputs": [],
   "source": []
  }
 ],
 "metadata": {
  "kernelspec": {
   "display_name": "Python 3",
   "language": "python",
   "name": "python3"
  },
  "language_info": {
   "codemirror_mode": {
    "name": "ipython",
    "version": 3
   },
   "file_extension": ".py",
   "mimetype": "text/x-python",
   "name": "python",
   "nbconvert_exporter": "python",
   "pygments_lexer": "ipython3",
   "version": "3.8.8"
  }
 },
 "nbformat": 4,
 "nbformat_minor": 5
}
